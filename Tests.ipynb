{
 "cells": [
  {
   "cell_type": "code",
   "execution_count": 2,
   "metadata": {},
   "outputs": [],
   "source": [
    "import EP"
   ]
  },
  {
   "cell_type": "code",
   "execution_count": 3,
   "metadata": {},
   "outputs": [],
   "source": [
    "population_size = 100\n",
    "tournament_size = 20\n",
    "num_of_iterations = 30\n",
    "crossover_prob = 0.9\n",
    "relation_mutation_prob = 0.6\n",
    "right_side_mutation_prob = 0.7\n",
    "prune_prob = 0.2\n",
    "build_block_prob = 0.3"
   ]
  },
  {
   "cell_type": "code",
   "execution_count": null,
   "metadata": {},
   "outputs": [],
   "source": [
    "for i in range(15):\n",
    "    EP.Tree.split(EP.Tree.X_train, EP.Tree.X_test, EP.Tree.y_train, EP.Tree.y_test)\n",
    "    (tree, tree_fitness) = EP.tree_evolution_2(num_of_iterations, population_size, tournament_size, crossover_prob, relation_mutation_prob, right_side_mutation_prob, prune_prob, build_block_prob)\n",
    "    print(\"Broj iteracije: \", i+1)\n",
    "    tree.print_tree()\n",
    "    print(\"Trening preciznost: \", tree_fitness)\n",
    "    print(\"Test preciznost: \", EP.calculate_test_fitness(tree))\n",
    "    print()\n",
    "    print()"
   ]
  }
 ],
 "metadata": {
  "kernelspec": {
   "display_name": "Python 3",
   "language": "python",
   "name": "python3"
  },
  "language_info": {
   "codemirror_mode": {
    "name": "ipython",
    "version": 3
   },
   "file_extension": ".py",
   "mimetype": "text/x-python",
   "name": "python",
   "nbconvert_exporter": "python",
   "pygments_lexer": "ipython3",
   "version": "3.7.4"
  }
 },
 "nbformat": 4,
 "nbformat_minor": 2
}
