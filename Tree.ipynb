{
 "cells": [
  {
   "cell_type": "code",
   "execution_count": 1,
   "metadata": {},
   "outputs": [],
   "source": [
    "import pandas as pd\n",
    "\n",
    "data = pd.read_csv(\"iris.csv\")"
   ]
  },
  {
   "cell_type": "code",
   "execution_count": 2,
   "metadata": {},
   "outputs": [],
   "source": [
    "X = data.drop(\"Species\", axis = 1)\n",
    "y = data[\"Species\"]"
   ]
  },
  {
   "cell_type": "code",
   "execution_count": 43,
   "metadata": {},
   "outputs": [],
   "source": [
    "class Node:\n",
    "    def __init__(self, index):\n",
    "        self.index = index"
   ]
  },
  {
   "cell_type": "code",
   "execution_count": 62,
   "metadata": {},
   "outputs": [],
   "source": [
    "class Leaf(Node):\n",
    "    def __init__(self, index, class_name):\n",
    "        Node.__init__(self, index)\n",
    "        self.class_name = class_name"
   ]
  },
  {
   "cell_type": "code",
   "execution_count": 63,
   "metadata": {},
   "outputs": [],
   "source": [
    "class NotLeaf(Node):\n",
    "    def __init__(self, index, left_part, relation, right_part):\n",
    "        Node.__init__(self, index)\n",
    "        self.left_part = left_part\n",
    "        self.relation = relation\n",
    "        self.right_part = right_part\n",
    "        self.left_node = None\n",
    "        self.right_node = None"
   ]
  },
  {
   "cell_type": "code",
   "execution_count": 76,
   "metadata": {},
   "outputs": [],
   "source": [
    "def print_nodes(node):\n",
    "    if isinstance(node, Leaf):\n",
    "        print(node.class_name)\n",
    "    elif isinstance(node, NotLeaf):\n",
    "        print(node.left_part, \" \", node.relation, \" \", node.right_part)\n",
    "        print_nodes(node.left_node)\n",
    "        print_nodes(node.right_node)"
   ]
  },
  {
   "cell_type": "code",
   "execution_count": 77,
   "metadata": {},
   "outputs": [],
   "source": [
    "def predict_point(row, node):\n",
    "    if isinstance(node, Leaf):\n",
    "        return node.class_name\n",
    "    elif isinstance(node, NotLeaf):\n",
    "        if node.relation == \"<\":\n",
    "            if row[node.left_part] < node.right_part:\n",
    "                return predict_point(row, node.left_node)\n",
    "            else:\n",
    "                return predict_point(row, node.right_node)\n",
    "        elif node.relation == \"<=\":\n",
    "            if row[node.left_part] <= node.right_part:\n",
    "                return predict_point(row, node.left_node)\n",
    "            else:\n",
    "                return predict_point(row, node.right_node)\n",
    "        elif node.relation == \"==\":\n",
    "            if row[node.left_part] == node.right_part:\n",
    "                return predict_point(row, node.left_node)\n",
    "            else:\n",
    "                return predict_point(row, node.right_node)\n",
    "        elif node.relation == \"!=\":\n",
    "            if row[node.left_part] != node.right_part:\n",
    "                return predict_point(row, node.left_node)\n",
    "            else:\n",
    "                return predict_point(row, node.right_node)\n",
    "        elif node.relation == \">\":\n",
    "            if row[node.left_part] > node.right_part:\n",
    "                return predict_point(row, node.left_node)\n",
    "            else:\n",
    "                return predict_point(row, node.right_node)\n",
    "        elif node.relation == \">=\":\n",
    "            if row[node.left_part] >= node.right_part:\n",
    "                return predict_point(row, node.left_node)\n",
    "            else:\n",
    "                return predict_point(row, node.right_node)    "
   ]
  },
  {
   "cell_type": "code",
   "execution_count": 121,
   "metadata": {},
   "outputs": [],
   "source": [
    "class Tree:        \n",
    "    def __init__(self, node_arguments):\n",
    "        if len(node_arguments) == 1:\n",
    "            self.root_node = Leaf(1, node_arguments[0])\n",
    "        else:\n",
    "            self.root_node = NotLeaf(1, node_arguments[0], node_arguments[1], node_arguments[2])\n",
    "        self.setOfIndexes = {1}\n",
    "        \n",
    "    def print_tree(self):\n",
    "        print_nodes(self.root_node)\n",
    "        \n",
    "    def calculate_fitness(self):\n",
    "        y_pred = [\"0\"] * len(X.index)\n",
    "        for i in range(len(X.index)):\n",
    "            y_pred[i] = predict_point(X.iloc[i], self.root_node)\n",
    "            \n",
    "        n_rows = len(y_pred)\n",
    "        predicted = 0\n",
    "        for i in range(n_rows):\n",
    "            if (y_pred[i] == y[i]):\n",
    "                predicted += 1\n",
    "                \n",
    "        return predicted/n_rows\n",
    "    \n",
    "    def add_node(self, parent_node, is_left, list_of_arguments):\n",
    "        \n",
    "        parent_index = parent_node.index\n",
    "        node = None\n",
    "        if is_left:\n",
    "            index = 2*parent_index\n",
    "        else:\n",
    "            index = 2*parent_index+1\n",
    "        if len(list_of_arguments) == 1:\n",
    "            node = Leaf(index, list_of_arguments[0])\n",
    "        else:\n",
    "            node = NotLeaf(index,\n",
    "                           list_of_arguments[0], list_of_arguments[1], list_of_arguments[2])\n",
    "        if is_left:\n",
    "            parent_node.left_node = node\n",
    "        else:\n",
    "            parent_node.right_node = node\n",
    "        self.setOfIndexes.add(index)\n",
    "            \n",
    "    def index_of(self, target_index):\n",
    "        binarised = bin(target_index)[3:]\n",
    "        node = self.root_node\n",
    "        for i in range(len(binarised)):\n",
    "            if binarised[i] == 0:\n",
    "                node = node.left_node\n",
    "            else:\n",
    "                node = node.right_node\n",
    "                \n",
    "        return node     \n",
    "    \n",
    "    def remove_node(self, target_index):\n",
    "        target_binarised = bin(target_index)\n",
    "        self.setOfIndexes = set(\n",
    "            filter (lambda index : bin(index)[:len(target_binarised)] != target_binarised\n",
    "                , self.setOfIndexes))\n",
    "        parent_index = target_index // 2\n",
    "        node = self.index_of(parent_index)\n",
    "        if(target_index % 2 == 0):\n",
    "            node.left_node = None\n",
    "        else:\n",
    "            node.right_node = None\n",
    "        \n",
    "    def add_subtree(self, target_index, target_node):\n",
    "        if target_index in self.setOfIndexes:\n",
    "            self.remove_node(target_index)\n",
    "        parent_index = target_index // 2\n",
    "        node = self.index_of(parent_index)\n",
    "        if(target_index % 2 == 0):\n",
    "            node.left_node = target_node\n",
    "        else:\n",
    "            node.right_node = target_node\n",
    "        self.update_index(target_index, target_node)\n",
    "            \n",
    "    def update_index(self, new_index, target_node):\n",
    "        target_node.index = new_index\n",
    "        self.setOfIndexes.add(new_index)\n",
    "        if isinstance(target_node, NotLeaf):\n",
    "            self.update_index(2*new_index, target_node.left_node)\n",
    "            self.update_index(2*new_index + 1, target_node.right_node)           "
   ]
  },
  {
   "cell_type": "code",
   "execution_count": 123,
   "metadata": {},
   "outputs": [
    {
     "name": "stdout",
     "output_type": "stream",
     "text": [
      "Sepal_Length   >   5\n",
      "setosa\n",
      "Sepal_Width   <   3\n",
      "Petal_Length   <   6\n",
      "setosa\n",
      "versicolor\n",
      "virginica\n",
      "{1, 2, 3, 6, 7, 12, 13}\n",
      "Sepal_Length   >   5\n",
      "Petal_Width   <=   4\n",
      "versicolor\n",
      "virginica\n",
      "Sepal_Width   <   3\n",
      "Petal_Length   <   6\n",
      "setosa\n",
      "versicolor\n",
      "virginica\n",
      "{1, 2, 3, 4, 5, 6, 7, 12, 13}\n"
     ]
    },
    {
     "data": {
      "text/plain": [
       "0.32666666666666666"
      ]
     },
     "execution_count": 123,
     "metadata": {},
     "output_type": "execute_result"
    }
   ],
   "source": [
    "t = Tree([\"Sepal_Length\", \">\", 5])\n",
    "t.add_node(t.root_node, True, ['setosa'])\n",
    "t.add_node(t.root_node, False, [\"Sepal_Width\", \"<\", 3])\n",
    "t.add_node(t.root_node.right_node, True, ['Petal_Length', '<', 6])\n",
    "t.add_node(t.root_node.right_node, False, ['virginica'])\n",
    "t.add_node(t.root_node.right_node.left_node, True, ['setosa'])\n",
    "t.add_node(t.root_node.right_node.left_node, False, ['versicolor'])\n",
    "\n",
    "t.print_tree()\n",
    "print(t.setOfIndexes)\n",
    "\n",
    "nl = NotLeaf(1, \"Petal_Width\", \"<=\", 4)\n",
    "l1 = Leaf(2, \"versicolor\")\n",
    "l2 = Leaf(3, \"virginica\")\n",
    "nl.left_node = l1\n",
    "nl.right_node = l2\n",
    "t.add_subtree(2, nl)\n",
    "\n",
    "t.print_tree()\n",
    "print(t.setOfIndexes)\n",
    "\n",
    "t.calculate_fitness()"
   ]
  },
  {
   "cell_type": "code",
   "execution_count": null,
   "metadata": {},
   "outputs": [],
   "source": []
  }
 ],
 "metadata": {
  "kernelspec": {
   "display_name": "Python 3",
   "language": "python",
   "name": "python3"
  },
  "language_info": {
   "codemirror_mode": {
    "name": "ipython",
    "version": 3
   },
   "file_extension": ".py",
   "mimetype": "text/x-python",
   "name": "python",
   "nbconvert_exporter": "python",
   "pygments_lexer": "ipython3",
   "version": "3.6.9"
  }
 },
 "nbformat": 4,
 "nbformat_minor": 2
}
